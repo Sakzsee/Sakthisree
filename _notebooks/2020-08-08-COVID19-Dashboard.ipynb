{
 "cells": [
  {
   "cell_type": "markdown",
   "metadata": {
    "tags": [
     "papermill-error-cell-tag"
    ]
   },
   "source": [
    "<span style=\"color:red; font-family:Helvetica Neue, Helvetica, Arial, sans-serif; font-size:2em;\">An Exception was encountered at '<a href=\"#papermill-error-cell\">In [2]</a>'.</span>"
   ]
  },
  {
   "cell_type": "markdown",
   "metadata": {
    "papermill": {
     "duration": 0.018491,
     "end_time": "2020-10-14T15:35:46.317608",
     "exception": false,
     "start_time": "2020-10-14T15:35:46.299117",
     "status": "completed"
    },
    "tags": []
   },
   "source": [
    "# A Python Dashboard in the time of Corona\n",
    "\n",
    "> Welcome to COVID-19 India Matplotlib Overview where I track coronavirus total cases, deaths, new cases and recovered in India. The dashboard is automatically updated every 2 hours in order to be up to date with the information.  \n",
    "\n",
    "- author: Sakthisree"
   ]
  },
  {
   "cell_type": "code",
   "execution_count": 1,
   "metadata": {
    "execution": {
     "iopub.execute_input": "2020-10-14T15:35:46.351071Z",
     "iopub.status.busy": "2020-10-14T15:35:46.350437Z",
     "iopub.status.idle": "2020-10-14T15:35:50.005347Z",
     "shell.execute_reply": "2020-10-14T15:35:50.004779Z"
    },
    "papermill": {
     "duration": 3.675364,
     "end_time": "2020-10-14T15:35:50.005510",
     "exception": false,
     "start_time": "2020-10-14T15:35:46.330146",
     "status": "completed"
    },
    "tags": []
   },
   "outputs": [],
   "source": [
    "#hide\n",
    "\n",
    "## Import essential packages below\n",
    "\n",
    "import pandas as pd\n",
    "import numpy as np\n",
    "import requests\n",
    "import json\n",
    "import matplotlib.pyplot as plt\n",
    "import matplotlib.dates as mdates\n",
    "import matplotlib as mpl\n",
    "from IPython.core.display import display,HTML\n",
    "import warnings\n",
    "from datetime import date\n",
    "from datetime import timedelta\n",
    "warnings.filterwarnings('ignore')\n",
    "%matplotlib inline"
   ]
  },
  {
   "cell_type": "markdown",
   "metadata": {
    "tags": [
     "papermill-error-cell-tag"
    ]
   },
   "source": [
    "<span id=\"papermill-error-cell\" style=\"color:red; font-family:Helvetica Neue, Helvetica, Arial, sans-serif; font-size:2em;\">Execution using papermill encountered an exception here and stopped:</span>"
   ]
  },
  {
   "cell_type": "code",
   "execution_count": 2,
   "metadata": {
    "execution": {
     "iopub.execute_input": "2020-10-14T15:35:50.040444Z",
     "iopub.status.busy": "2020-10-14T15:35:50.039455Z",
     "iopub.status.idle": "2020-10-14T15:35:55.285091Z",
     "shell.execute_reply": "2020-10-14T15:35:55.283016Z"
    },
    "papermill": {
     "duration": 5.26322,
     "end_time": "2020-10-14T15:35:55.285399",
     "exception": true,
     "start_time": "2020-10-14T15:35:50.022179",
     "status": "failed"
    },
    "tags": []
   },
   "outputs": [
    {
     "ename": "HTTPError",
     "evalue": "HTTP Error 503: Service Unavailable",
     "output_type": "error",
     "traceback": [
      "\u001b[0;31m---------------------------------------------------------------------------\u001b[0m",
      "\u001b[0;31mHTTPError\u001b[0m                                 Traceback (most recent call last)",
      "\u001b[0;32m<ipython-input-2-6a9895019b1a>\u001b[0m in \u001b[0;36m<module>\u001b[0;34m\u001b[0m\n\u001b[1;32m      1\u001b[0m \u001b[0;31m#hide\u001b[0m\u001b[0;34m\u001b[0m\u001b[0;34m\u001b[0m\u001b[0;34m\u001b[0m\u001b[0m\n\u001b[0;32m----> 2\u001b[0;31m \u001b[0mdf\u001b[0m \u001b[0;34m=\u001b[0m \u001b[0mpd\u001b[0m\u001b[0;34m.\u001b[0m\u001b[0mread_csv\u001b[0m\u001b[0;34m(\u001b[0m\u001b[0;34m\"https://api.covid19india.org/csv/latest/states.csv\"\u001b[0m\u001b[0;34m)\u001b[0m\u001b[0;34m\u001b[0m\u001b[0;34m\u001b[0m\u001b[0m\n\u001b[0m",
      "\u001b[0;32m/opt/hostedtoolcache/Python/3.6.12/x64/lib/python3.6/site-packages/pandas/io/parsers.py\u001b[0m in \u001b[0;36mread_csv\u001b[0;34m(filepath_or_buffer, sep, delimiter, header, names, index_col, usecols, squeeze, prefix, mangle_dupe_cols, dtype, engine, converters, true_values, false_values, skipinitialspace, skiprows, skipfooter, nrows, na_values, keep_default_na, na_filter, verbose, skip_blank_lines, parse_dates, infer_datetime_format, keep_date_col, date_parser, dayfirst, cache_dates, iterator, chunksize, compression, thousands, decimal, lineterminator, quotechar, quoting, doublequote, escapechar, comment, encoding, dialect, error_bad_lines, warn_bad_lines, delim_whitespace, low_memory, memory_map, float_precision)\u001b[0m\n\u001b[1;32m    684\u001b[0m     )\n\u001b[1;32m    685\u001b[0m \u001b[0;34m\u001b[0m\u001b[0m\n\u001b[0;32m--> 686\u001b[0;31m     \u001b[0;32mreturn\u001b[0m \u001b[0m_read\u001b[0m\u001b[0;34m(\u001b[0m\u001b[0mfilepath_or_buffer\u001b[0m\u001b[0;34m,\u001b[0m \u001b[0mkwds\u001b[0m\u001b[0;34m)\u001b[0m\u001b[0;34m\u001b[0m\u001b[0;34m\u001b[0m\u001b[0m\n\u001b[0m\u001b[1;32m    687\u001b[0m \u001b[0;34m\u001b[0m\u001b[0m\n\u001b[1;32m    688\u001b[0m \u001b[0;34m\u001b[0m\u001b[0m\n",
      "\u001b[0;32m/opt/hostedtoolcache/Python/3.6.12/x64/lib/python3.6/site-packages/pandas/io/parsers.py\u001b[0m in \u001b[0;36m_read\u001b[0;34m(filepath_or_buffer, kwds)\u001b[0m\n\u001b[1;32m    433\u001b[0m     \u001b[0;31m# See https://github.com/python/mypy/issues/1297\u001b[0m\u001b[0;34m\u001b[0m\u001b[0;34m\u001b[0m\u001b[0;34m\u001b[0m\u001b[0m\n\u001b[1;32m    434\u001b[0m     fp_or_buf, _, compression, should_close = get_filepath_or_buffer(\n\u001b[0;32m--> 435\u001b[0;31m         \u001b[0mfilepath_or_buffer\u001b[0m\u001b[0;34m,\u001b[0m \u001b[0mencoding\u001b[0m\u001b[0;34m,\u001b[0m \u001b[0mcompression\u001b[0m\u001b[0;34m\u001b[0m\u001b[0;34m\u001b[0m\u001b[0m\n\u001b[0m\u001b[1;32m    436\u001b[0m     )\n\u001b[1;32m    437\u001b[0m     \u001b[0mkwds\u001b[0m\u001b[0;34m[\u001b[0m\u001b[0;34m\"compression\"\u001b[0m\u001b[0;34m]\u001b[0m \u001b[0;34m=\u001b[0m \u001b[0mcompression\u001b[0m\u001b[0;34m\u001b[0m\u001b[0;34m\u001b[0m\u001b[0m\n",
      "\u001b[0;32m/opt/hostedtoolcache/Python/3.6.12/x64/lib/python3.6/site-packages/pandas/io/common.py\u001b[0m in \u001b[0;36mget_filepath_or_buffer\u001b[0;34m(filepath_or_buffer, encoding, compression, mode, storage_options)\u001b[0m\n\u001b[1;32m    181\u001b[0m     \u001b[0;32mif\u001b[0m \u001b[0misinstance\u001b[0m\u001b[0;34m(\u001b[0m\u001b[0mfilepath_or_buffer\u001b[0m\u001b[0;34m,\u001b[0m \u001b[0mstr\u001b[0m\u001b[0;34m)\u001b[0m \u001b[0;32mand\u001b[0m \u001b[0mis_url\u001b[0m\u001b[0;34m(\u001b[0m\u001b[0mfilepath_or_buffer\u001b[0m\u001b[0;34m)\u001b[0m\u001b[0;34m:\u001b[0m\u001b[0;34m\u001b[0m\u001b[0;34m\u001b[0m\u001b[0m\n\u001b[1;32m    182\u001b[0m         \u001b[0;31m# TODO: fsspec can also handle HTTP via requests, but leaving this unchanged\u001b[0m\u001b[0;34m\u001b[0m\u001b[0;34m\u001b[0m\u001b[0;34m\u001b[0m\u001b[0m\n\u001b[0;32m--> 183\u001b[0;31m         \u001b[0mreq\u001b[0m \u001b[0;34m=\u001b[0m \u001b[0murlopen\u001b[0m\u001b[0;34m(\u001b[0m\u001b[0mfilepath_or_buffer\u001b[0m\u001b[0;34m)\u001b[0m\u001b[0;34m\u001b[0m\u001b[0;34m\u001b[0m\u001b[0m\n\u001b[0m\u001b[1;32m    184\u001b[0m         \u001b[0mcontent_encoding\u001b[0m \u001b[0;34m=\u001b[0m \u001b[0mreq\u001b[0m\u001b[0;34m.\u001b[0m\u001b[0mheaders\u001b[0m\u001b[0;34m.\u001b[0m\u001b[0mget\u001b[0m\u001b[0;34m(\u001b[0m\u001b[0;34m\"Content-Encoding\"\u001b[0m\u001b[0;34m,\u001b[0m \u001b[0;32mNone\u001b[0m\u001b[0;34m)\u001b[0m\u001b[0;34m\u001b[0m\u001b[0;34m\u001b[0m\u001b[0m\n\u001b[1;32m    185\u001b[0m         \u001b[0;32mif\u001b[0m \u001b[0mcontent_encoding\u001b[0m \u001b[0;34m==\u001b[0m \u001b[0;34m\"gzip\"\u001b[0m\u001b[0;34m:\u001b[0m\u001b[0;34m\u001b[0m\u001b[0;34m\u001b[0m\u001b[0m\n",
      "\u001b[0;32m/opt/hostedtoolcache/Python/3.6.12/x64/lib/python3.6/site-packages/pandas/io/common.py\u001b[0m in \u001b[0;36murlopen\u001b[0;34m(*args, **kwargs)\u001b[0m\n\u001b[1;32m    135\u001b[0m     \u001b[0;32mimport\u001b[0m \u001b[0murllib\u001b[0m\u001b[0;34m.\u001b[0m\u001b[0mrequest\u001b[0m\u001b[0;34m\u001b[0m\u001b[0;34m\u001b[0m\u001b[0m\n\u001b[1;32m    136\u001b[0m \u001b[0;34m\u001b[0m\u001b[0m\n\u001b[0;32m--> 137\u001b[0;31m     \u001b[0;32mreturn\u001b[0m \u001b[0murllib\u001b[0m\u001b[0;34m.\u001b[0m\u001b[0mrequest\u001b[0m\u001b[0;34m.\u001b[0m\u001b[0murlopen\u001b[0m\u001b[0;34m(\u001b[0m\u001b[0;34m*\u001b[0m\u001b[0margs\u001b[0m\u001b[0;34m,\u001b[0m \u001b[0;34m**\u001b[0m\u001b[0mkwargs\u001b[0m\u001b[0;34m)\u001b[0m\u001b[0;34m\u001b[0m\u001b[0;34m\u001b[0m\u001b[0m\n\u001b[0m\u001b[1;32m    138\u001b[0m \u001b[0;34m\u001b[0m\u001b[0m\n\u001b[1;32m    139\u001b[0m \u001b[0;34m\u001b[0m\u001b[0m\n",
      "\u001b[0;32m/opt/hostedtoolcache/Python/3.6.12/x64/lib/python3.6/urllib/request.py\u001b[0m in \u001b[0;36murlopen\u001b[0;34m(url, data, timeout, cafile, capath, cadefault, context)\u001b[0m\n\u001b[1;32m    221\u001b[0m     \u001b[0;32melse\u001b[0m\u001b[0;34m:\u001b[0m\u001b[0;34m\u001b[0m\u001b[0;34m\u001b[0m\u001b[0m\n\u001b[1;32m    222\u001b[0m         \u001b[0mopener\u001b[0m \u001b[0;34m=\u001b[0m \u001b[0m_opener\u001b[0m\u001b[0;34m\u001b[0m\u001b[0;34m\u001b[0m\u001b[0m\n\u001b[0;32m--> 223\u001b[0;31m     \u001b[0;32mreturn\u001b[0m \u001b[0mopener\u001b[0m\u001b[0;34m.\u001b[0m\u001b[0mopen\u001b[0m\u001b[0;34m(\u001b[0m\u001b[0murl\u001b[0m\u001b[0;34m,\u001b[0m \u001b[0mdata\u001b[0m\u001b[0;34m,\u001b[0m \u001b[0mtimeout\u001b[0m\u001b[0;34m)\u001b[0m\u001b[0;34m\u001b[0m\u001b[0;34m\u001b[0m\u001b[0m\n\u001b[0m\u001b[1;32m    224\u001b[0m \u001b[0;34m\u001b[0m\u001b[0m\n\u001b[1;32m    225\u001b[0m \u001b[0;32mdef\u001b[0m \u001b[0minstall_opener\u001b[0m\u001b[0;34m(\u001b[0m\u001b[0mopener\u001b[0m\u001b[0;34m)\u001b[0m\u001b[0;34m:\u001b[0m\u001b[0;34m\u001b[0m\u001b[0;34m\u001b[0m\u001b[0m\n",
      "\u001b[0;32m/opt/hostedtoolcache/Python/3.6.12/x64/lib/python3.6/urllib/request.py\u001b[0m in \u001b[0;36mopen\u001b[0;34m(self, fullurl, data, timeout)\u001b[0m\n\u001b[1;32m    530\u001b[0m         \u001b[0;32mfor\u001b[0m \u001b[0mprocessor\u001b[0m \u001b[0;32min\u001b[0m \u001b[0mself\u001b[0m\u001b[0;34m.\u001b[0m\u001b[0mprocess_response\u001b[0m\u001b[0;34m.\u001b[0m\u001b[0mget\u001b[0m\u001b[0;34m(\u001b[0m\u001b[0mprotocol\u001b[0m\u001b[0;34m,\u001b[0m \u001b[0;34m[\u001b[0m\u001b[0;34m]\u001b[0m\u001b[0;34m)\u001b[0m\u001b[0;34m:\u001b[0m\u001b[0;34m\u001b[0m\u001b[0;34m\u001b[0m\u001b[0m\n\u001b[1;32m    531\u001b[0m             \u001b[0mmeth\u001b[0m \u001b[0;34m=\u001b[0m \u001b[0mgetattr\u001b[0m\u001b[0;34m(\u001b[0m\u001b[0mprocessor\u001b[0m\u001b[0;34m,\u001b[0m \u001b[0mmeth_name\u001b[0m\u001b[0;34m)\u001b[0m\u001b[0;34m\u001b[0m\u001b[0;34m\u001b[0m\u001b[0m\n\u001b[0;32m--> 532\u001b[0;31m             \u001b[0mresponse\u001b[0m \u001b[0;34m=\u001b[0m \u001b[0mmeth\u001b[0m\u001b[0;34m(\u001b[0m\u001b[0mreq\u001b[0m\u001b[0;34m,\u001b[0m \u001b[0mresponse\u001b[0m\u001b[0;34m)\u001b[0m\u001b[0;34m\u001b[0m\u001b[0;34m\u001b[0m\u001b[0m\n\u001b[0m\u001b[1;32m    533\u001b[0m \u001b[0;34m\u001b[0m\u001b[0m\n\u001b[1;32m    534\u001b[0m         \u001b[0;32mreturn\u001b[0m \u001b[0mresponse\u001b[0m\u001b[0;34m\u001b[0m\u001b[0;34m\u001b[0m\u001b[0m\n",
      "\u001b[0;32m/opt/hostedtoolcache/Python/3.6.12/x64/lib/python3.6/urllib/request.py\u001b[0m in \u001b[0;36mhttp_response\u001b[0;34m(self, request, response)\u001b[0m\n\u001b[1;32m    640\u001b[0m         \u001b[0;32mif\u001b[0m \u001b[0;32mnot\u001b[0m \u001b[0;34m(\u001b[0m\u001b[0;36m200\u001b[0m \u001b[0;34m<=\u001b[0m \u001b[0mcode\u001b[0m \u001b[0;34m<\u001b[0m \u001b[0;36m300\u001b[0m\u001b[0;34m)\u001b[0m\u001b[0;34m:\u001b[0m\u001b[0;34m\u001b[0m\u001b[0;34m\u001b[0m\u001b[0m\n\u001b[1;32m    641\u001b[0m             response = self.parent.error(\n\u001b[0;32m--> 642\u001b[0;31m                 'http', request, response, code, msg, hdrs)\n\u001b[0m\u001b[1;32m    643\u001b[0m \u001b[0;34m\u001b[0m\u001b[0m\n\u001b[1;32m    644\u001b[0m         \u001b[0;32mreturn\u001b[0m \u001b[0mresponse\u001b[0m\u001b[0;34m\u001b[0m\u001b[0;34m\u001b[0m\u001b[0m\n",
      "\u001b[0;32m/opt/hostedtoolcache/Python/3.6.12/x64/lib/python3.6/urllib/request.py\u001b[0m in \u001b[0;36merror\u001b[0;34m(self, proto, *args)\u001b[0m\n\u001b[1;32m    568\u001b[0m         \u001b[0;32mif\u001b[0m \u001b[0mhttp_err\u001b[0m\u001b[0;34m:\u001b[0m\u001b[0;34m\u001b[0m\u001b[0;34m\u001b[0m\u001b[0m\n\u001b[1;32m    569\u001b[0m             \u001b[0margs\u001b[0m \u001b[0;34m=\u001b[0m \u001b[0;34m(\u001b[0m\u001b[0mdict\u001b[0m\u001b[0;34m,\u001b[0m \u001b[0;34m'default'\u001b[0m\u001b[0;34m,\u001b[0m \u001b[0;34m'http_error_default'\u001b[0m\u001b[0;34m)\u001b[0m \u001b[0;34m+\u001b[0m \u001b[0morig_args\u001b[0m\u001b[0;34m\u001b[0m\u001b[0;34m\u001b[0m\u001b[0m\n\u001b[0;32m--> 570\u001b[0;31m             \u001b[0;32mreturn\u001b[0m \u001b[0mself\u001b[0m\u001b[0;34m.\u001b[0m\u001b[0m_call_chain\u001b[0m\u001b[0;34m(\u001b[0m\u001b[0;34m*\u001b[0m\u001b[0margs\u001b[0m\u001b[0;34m)\u001b[0m\u001b[0;34m\u001b[0m\u001b[0;34m\u001b[0m\u001b[0m\n\u001b[0m\u001b[1;32m    571\u001b[0m \u001b[0;34m\u001b[0m\u001b[0m\n\u001b[1;32m    572\u001b[0m \u001b[0;31m# XXX probably also want an abstract factory that knows when it makes\u001b[0m\u001b[0;34m\u001b[0m\u001b[0;34m\u001b[0m\u001b[0;34m\u001b[0m\u001b[0m\n",
      "\u001b[0;32m/opt/hostedtoolcache/Python/3.6.12/x64/lib/python3.6/urllib/request.py\u001b[0m in \u001b[0;36m_call_chain\u001b[0;34m(self, chain, kind, meth_name, *args)\u001b[0m\n\u001b[1;32m    502\u001b[0m         \u001b[0;32mfor\u001b[0m \u001b[0mhandler\u001b[0m \u001b[0;32min\u001b[0m \u001b[0mhandlers\u001b[0m\u001b[0;34m:\u001b[0m\u001b[0;34m\u001b[0m\u001b[0;34m\u001b[0m\u001b[0m\n\u001b[1;32m    503\u001b[0m             \u001b[0mfunc\u001b[0m \u001b[0;34m=\u001b[0m \u001b[0mgetattr\u001b[0m\u001b[0;34m(\u001b[0m\u001b[0mhandler\u001b[0m\u001b[0;34m,\u001b[0m \u001b[0mmeth_name\u001b[0m\u001b[0;34m)\u001b[0m\u001b[0;34m\u001b[0m\u001b[0;34m\u001b[0m\u001b[0m\n\u001b[0;32m--> 504\u001b[0;31m             \u001b[0mresult\u001b[0m \u001b[0;34m=\u001b[0m \u001b[0mfunc\u001b[0m\u001b[0;34m(\u001b[0m\u001b[0;34m*\u001b[0m\u001b[0margs\u001b[0m\u001b[0;34m)\u001b[0m\u001b[0;34m\u001b[0m\u001b[0;34m\u001b[0m\u001b[0m\n\u001b[0m\u001b[1;32m    505\u001b[0m             \u001b[0;32mif\u001b[0m \u001b[0mresult\u001b[0m \u001b[0;32mis\u001b[0m \u001b[0;32mnot\u001b[0m \u001b[0;32mNone\u001b[0m\u001b[0;34m:\u001b[0m\u001b[0;34m\u001b[0m\u001b[0;34m\u001b[0m\u001b[0m\n\u001b[1;32m    506\u001b[0m                 \u001b[0;32mreturn\u001b[0m \u001b[0mresult\u001b[0m\u001b[0;34m\u001b[0m\u001b[0;34m\u001b[0m\u001b[0m\n",
      "\u001b[0;32m/opt/hostedtoolcache/Python/3.6.12/x64/lib/python3.6/urllib/request.py\u001b[0m in \u001b[0;36mhttp_error_default\u001b[0;34m(self, req, fp, code, msg, hdrs)\u001b[0m\n\u001b[1;32m    648\u001b[0m \u001b[0;32mclass\u001b[0m \u001b[0mHTTPDefaultErrorHandler\u001b[0m\u001b[0;34m(\u001b[0m\u001b[0mBaseHandler\u001b[0m\u001b[0;34m)\u001b[0m\u001b[0;34m:\u001b[0m\u001b[0;34m\u001b[0m\u001b[0;34m\u001b[0m\u001b[0m\n\u001b[1;32m    649\u001b[0m     \u001b[0;32mdef\u001b[0m \u001b[0mhttp_error_default\u001b[0m\u001b[0;34m(\u001b[0m\u001b[0mself\u001b[0m\u001b[0;34m,\u001b[0m \u001b[0mreq\u001b[0m\u001b[0;34m,\u001b[0m \u001b[0mfp\u001b[0m\u001b[0;34m,\u001b[0m \u001b[0mcode\u001b[0m\u001b[0;34m,\u001b[0m \u001b[0mmsg\u001b[0m\u001b[0;34m,\u001b[0m \u001b[0mhdrs\u001b[0m\u001b[0;34m)\u001b[0m\u001b[0;34m:\u001b[0m\u001b[0;34m\u001b[0m\u001b[0;34m\u001b[0m\u001b[0m\n\u001b[0;32m--> 650\u001b[0;31m         \u001b[0;32mraise\u001b[0m \u001b[0mHTTPError\u001b[0m\u001b[0;34m(\u001b[0m\u001b[0mreq\u001b[0m\u001b[0;34m.\u001b[0m\u001b[0mfull_url\u001b[0m\u001b[0;34m,\u001b[0m \u001b[0mcode\u001b[0m\u001b[0;34m,\u001b[0m \u001b[0mmsg\u001b[0m\u001b[0;34m,\u001b[0m \u001b[0mhdrs\u001b[0m\u001b[0;34m,\u001b[0m \u001b[0mfp\u001b[0m\u001b[0;34m)\u001b[0m\u001b[0;34m\u001b[0m\u001b[0;34m\u001b[0m\u001b[0m\n\u001b[0m\u001b[1;32m    651\u001b[0m \u001b[0;34m\u001b[0m\u001b[0m\n\u001b[1;32m    652\u001b[0m \u001b[0;32mclass\u001b[0m \u001b[0mHTTPRedirectHandler\u001b[0m\u001b[0;34m(\u001b[0m\u001b[0mBaseHandler\u001b[0m\u001b[0;34m)\u001b[0m\u001b[0;34m:\u001b[0m\u001b[0;34m\u001b[0m\u001b[0;34m\u001b[0m\u001b[0m\n",
      "\u001b[0;31mHTTPError\u001b[0m: HTTP Error 503: Service Unavailable"
     ]
    }
   ],
   "source": [
    "#hide\n",
    "df = pd.read_csv(\"https://api.covid19india.org/csv/latest/states.csv\")"
   ]
  },
  {
   "cell_type": "code",
   "execution_count": null,
   "metadata": {
    "execution": {
     "iopub.execute_input": "2020-10-14T15:05:23.692765Z",
     "iopub.status.busy": "2020-10-14T15:05:23.692226Z",
     "iopub.status.idle": "2020-10-14T15:05:23.696003Z",
     "shell.execute_reply": "2020-10-14T15:05:23.695602Z"
    },
    "papermill": {
     "duration": null,
     "end_time": null,
     "exception": null,
     "start_time": null,
     "status": "pending"
    },
    "tags": []
   },
   "outputs": [],
   "source": [
    "#hide\n",
    "\n",
    "#splitting df into confirmed data, deceased data and recovered data in all states date wise\n",
    "\n",
    "confirmed = df.iloc[:,:3]\n",
    "death = df.iloc[:,[0,1,4]]\n",
    "recovered = df.iloc[:,[0,1,3]]"
   ]
  },
  {
   "cell_type": "code",
   "execution_count": null,
   "metadata": {
    "execution": {
     "iopub.execute_input": "2020-10-14T15:05:23.723284Z",
     "iopub.status.busy": "2020-10-14T15:05:23.722716Z",
     "iopub.status.idle": "2020-10-14T15:05:23.735006Z",
     "shell.execute_reply": "2020-10-14T15:05:23.734574Z"
    },
    "papermill": {
     "duration": null,
     "end_time": null,
     "exception": null,
     "start_time": null,
     "status": "pending"
    },
    "tags": []
   },
   "outputs": [],
   "source": [
    "#hide\n",
    "#changing 'Date' to date type and sorting dataframes from old to new\n",
    "\n",
    "confirmed['Date'] = pd.to_datetime(confirmed.Date)\n",
    "confirmed.sort_values(by=['Date']);\n",
    "\n",
    "death['Date'] = pd.to_datetime(death.Date)\n",
    "death.sort_values(by=['Date']);\n",
    "\n",
    "recovered['Date'] = pd.to_datetime(recovered.Date)\n",
    "recovered.sort_values(by=['Date']);"
   ]
  },
  {
   "cell_type": "code",
   "execution_count": null,
   "metadata": {
    "execution": {
     "iopub.execute_input": "2020-10-14T15:05:23.761844Z",
     "iopub.status.busy": "2020-10-14T15:05:23.761244Z",
     "iopub.status.idle": "2020-10-14T15:05:23.768018Z",
     "shell.execute_reply": "2020-10-14T15:05:23.767622Z"
    },
    "papermill": {
     "duration": null,
     "end_time": null,
     "exception": null,
     "start_time": null,
     "status": "pending"
    },
    "scrolled": true,
    "tags": []
   },
   "outputs": [],
   "source": [
    "#hide\n",
    "today = date.today()\n",
    "if today.strftime(\"%Y-%m-%d\") not in confirmed['Date']:\n",
    "    today = today - timedelta(days = 1)\n",
    "else:\n",
    "    today = today\n",
    "\n",
    "#fetching confirmed cases number from today\n",
    "today_confirmed_data = confirmed[confirmed['Date'] == today.strftime(\"%Y-%m-%d\")]\n",
    "confirmed_cases = today_confirmed_data[today_confirmed_data['State'] == \"India\"]['Confirmed']\n",
    "confirmed_cases = int(confirmed_cases.item())\n",
    "\n",
    "#fetching deceased cases number from today\n",
    "today_deceased_data = death[death['Date'] == today.strftime(\"%Y-%m-%d\")]\n",
    "deceased_cases = today_deceased_data[today_deceased_data['State'] == \"India\"]['Deceased']\n",
    "deceased_cases = int(deceased_cases.item())\n",
    "\n",
    "#fetching recovered cases from today\n",
    "today_recovered_data = recovered[recovered['Date'] == today.strftime(\"%Y-%m-%d\")]\n",
    "recovered_cases = today_recovered_data[today_recovered_data['State'] == \"India\"]['Recovered']\n",
    "recovered_cases = int(recovered_cases.item())\n",
    "\n"
   ]
  },
  {
   "cell_type": "code",
   "execution_count": null,
   "metadata": {
    "execution": {
     "iopub.execute_input": "2020-10-14T15:05:23.798721Z",
     "iopub.status.busy": "2020-10-14T15:05:23.798124Z",
     "iopub.status.idle": "2020-10-14T15:05:23.803713Z",
     "shell.execute_reply": "2020-10-14T15:05:23.803262Z"
    },
    "papermill": {
     "duration": null,
     "end_time": null,
     "exception": null,
     "start_time": null,
     "status": "pending"
    },
    "tags": []
   },
   "outputs": [],
   "source": [
    "#hide\n",
    "yesterday = today - timedelta(days = 1) \n",
    "\n",
    "#fetching confirmed cases number from yesterday\n",
    "yesterday_confirmed_data = confirmed[confirmed['Date'] == yesterday.strftime(\"%Y-%m-%d\")]\n",
    "yesterday_confirmed_cases = yesterday_confirmed_data[yesterday_confirmed_data['State'] == \"India\"]['Confirmed']\n",
    "\n",
    "#fetching deceased cases number from yesterday\n",
    "yesterday_deceased_data = death[death['Date'] == yesterday.strftime(\"%Y-%m-%d\")]\n",
    "yesterday_deceased_cases = yesterday_deceased_data[yesterday_deceased_data['State'] == \"India\"]['Deceased']\n",
    "\n",
    "#fetching recovered cases from yesterday\n",
    "yesterday_recovered_data = recovered[recovered['Date'] == yesterday.strftime(\"%Y-%m-%d\")]\n",
    "yesterday_recovered_cases = yesterday_recovered_data[yesterday_recovered_data['State'] == \"India\"]['Recovered']\n",
    "\n",
    "#getting increase in numbers from yesterday to today\n",
    "new = confirmed_cases - yesterday_confirmed_cases\n",
    "dnew = deceased_cases - yesterday_deceased_cases\n",
    "drecov = recovered_cases - yesterday_recovered_cases\n"
   ]
  },
  {
   "cell_type": "code",
   "execution_count": null,
   "metadata": {
    "execution": {
     "iopub.execute_input": "2020-10-14T15:05:23.829594Z",
     "iopub.status.busy": "2020-10-14T15:05:23.829038Z",
     "iopub.status.idle": "2020-10-14T15:05:23.831144Z",
     "shell.execute_reply": "2020-10-14T15:05:23.830697Z"
    },
    "papermill": {
     "duration": null,
     "end_time": null,
     "exception": null,
     "start_time": null,
     "status": "pending"
    },
    "tags": []
   },
   "outputs": [],
   "source": [
    "#hide\n",
    "\n",
    "#creating the html overview of the data\n",
    "overview = '''\n",
    "<!-- #######  HTML!! #########-->\n",
    "<h1 style=\"color: #5e9ca0; text-align: center;background-color:black;font-size:30px;\">India</h1>\n",
    "\n",
    "<p style=\"text-align: center;background-color:#e8e8e8;\">Last update: <strong>{update}</strong></p>\n",
    "\n",
    "<p style=\"text-align: center;font-size:18px\">Confirmed cases:</p>\n",
    "<p style=\"text-align: center;font-size:24px;\"><strong>{cases}</strong> (<span style=\"color: #ff0000;\">+{new}</span>)</p>\n",
    "\n",
    "<p style=\"text-align: center;font-size:18px\">Confirmed deaths:</p>\n",
    "<p style=\"text-align: center;font-size:24px;\"><strong>{deaths}</strong> (<span style=\"color: #ff0000;\">+{dnew}</span>)</p>\n",
    "\n",
    "<p style=\"text-align: center;font-size:18px\">Recovered:</p>\n",
    "<p style=\"text-align: center;font-size:24px;\"><strong>{recovered}</strong> (<span style=\"color: #ff0000;\">+{drecov}</span>)</p>\n",
    "\n",
    "'''"
   ]
  },
  {
   "cell_type": "code",
   "execution_count": null,
   "metadata": {
    "execution": {
     "iopub.execute_input": "2020-10-14T15:05:23.856682Z",
     "iopub.status.busy": "2020-10-14T15:05:23.856105Z",
     "iopub.status.idle": "2020-10-14T15:05:23.860104Z",
     "shell.execute_reply": "2020-10-14T15:05:23.859653Z"
    },
    "papermill": {
     "duration": null,
     "end_time": null,
     "exception": null,
     "start_time": null,
     "status": "pending"
    },
    "tags": []
   },
   "outputs": [],
   "source": [
    "#hide\n",
    "html = HTML(overview.format(update=today, cases=confirmed_cases,new=new.item(),deaths=deceased_cases,dnew=dnew.item(),recovered = recovered_cases,drecov = drecov.item()))"
   ]
  },
  {
   "cell_type": "code",
   "execution_count": null,
   "metadata": {
    "execution": {
     "iopub.execute_input": "2020-10-14T15:05:23.888531Z",
     "iopub.status.busy": "2020-10-14T15:05:23.887690Z",
     "iopub.status.idle": "2020-10-14T15:05:23.890782Z",
     "shell.execute_reply": "2020-10-14T15:05:23.891318Z"
    },
    "papermill": {
     "duration": null,
     "end_time": null,
     "exception": null,
     "start_time": null,
     "status": "pending"
    },
    "tags": []
   },
   "outputs": [],
   "source": [
    "#hide_input\n",
    "display(html)"
   ]
  },
  {
   "cell_type": "code",
   "execution_count": null,
   "metadata": {
    "execution": {
     "iopub.execute_input": "2020-10-14T15:05:23.922857Z",
     "iopub.status.busy": "2020-10-14T15:05:23.922302Z",
     "iopub.status.idle": "2020-10-14T15:05:23.974852Z",
     "shell.execute_reply": "2020-10-14T15:05:23.973980Z"
    },
    "papermill": {
     "duration": null,
     "end_time": null,
     "exception": null,
     "start_time": null,
     "status": "pending"
    },
    "tags": []
   },
   "outputs": [],
   "source": [
    "#hide\n",
    "import datetime \n",
    "\n",
    "#manipulating the dataframes to get the correct dataframe columns to work with\n",
    "\n",
    "dates_so_far = df.Date.unique().tolist()\n",
    "column_names = ['State']+ dates_so_far \n",
    "\n",
    "revised_confirmed_df = pd.DataFrame(columns = column_names)\n",
    "revised_confirmed_df['State'] = confirmed['State'].unique()\n",
    "revised_confirmed_df = revised_confirmed_df.set_index('State')\n",
    "\n",
    "revised_deceased_df = pd.DataFrame(columns = column_names)\n",
    "revised_deceased_df['State'] = death['State'].unique()\n",
    "revised_deceased_df = revised_deceased_df.set_index('State')\n",
    "\n",
    "revised_recovered_df = pd.DataFrame(columns = column_names)\n",
    "revised_recovered_df['State'] = recovered['State'].unique()\n",
    "revised_recovered_df = revised_recovered_df.set_index('State')\n"
   ]
  },
  {
   "cell_type": "code",
   "execution_count": null,
   "metadata": {
    "execution": {
     "iopub.execute_input": "2020-10-14T15:05:24.012941Z",
     "iopub.status.busy": "2020-10-14T15:05:24.012334Z",
     "iopub.status.idle": "2020-10-14T15:05:39.324214Z",
     "shell.execute_reply": "2020-10-14T15:05:39.323338Z"
    },
    "papermill": {
     "duration": null,
     "end_time": null,
     "exception": null,
     "start_time": null,
     "status": "pending"
    },
    "tags": []
   },
   "outputs": [],
   "source": [
    "#hide\n",
    "for i in dates_so_far: \n",
    "    states_having_confirmed_cases = confirmed[confirmed['Date'] == i]\n",
    "    states_having_deceased_cases = death[death['Date'] == i]\n",
    "    states_having_recovered_cases = recovered[recovered['Date'] == i]\n",
    "    for j in states_having_confirmed_cases['State']:\n",
    "        revised_confirmed_df.loc[j][i] = states_having_confirmed_cases[states_having_confirmed_cases['State'] == j]['Confirmed'].item()\n",
    "        revised_deceased_df.loc[j][i] = states_having_deceased_cases[states_having_deceased_cases['State'] == j]['Deceased'].item()\n",
    "        revised_recovered_df.loc[j][i] = states_having_recovered_cases[states_having_recovered_cases['State'] == j]['Recovered'].item()\n",
    "\n",
    "revised_confirmed_df = revised_confirmed_df.replace(np.nan,0)\n",
    "revised_deceased_df = revised_deceased_df.replace(np.nan,0)\n",
    "revised_recovered_df = revised_recovered_df.replace(np.nan,0)\n"
   ]
  },
  {
   "cell_type": "code",
   "execution_count": null,
   "metadata": {
    "execution": {
     "iopub.execute_input": "2020-10-14T15:05:39.362031Z",
     "iopub.status.busy": "2020-10-14T15:05:39.361436Z",
     "iopub.status.idle": "2020-10-14T15:05:39.372884Z",
     "shell.execute_reply": "2020-10-14T15:05:39.372394Z"
    },
    "papermill": {
     "duration": null,
     "end_time": null,
     "exception": null,
     "start_time": null,
     "status": "pending"
    },
    "tags": []
   },
   "outputs": [],
   "source": [
    "#hide\n",
    "\n",
    "#creating a total summary overview of the cases, deaths, recovered, delta of cases, delta of deaths, delta of recovered and fatality rates\n",
    "today_summary_table = pd.DataFrame(columns = ['State','Confirmed','Deceased','Recovered','PConfirmed','PDeceased','PRecovered','Fatality Rate'])\n",
    "today_summary_table['State'] = confirmed['State'].unique()\n",
    "today_summary_table = today_summary_table.set_index('State')\n",
    "\n",
    "today_summary_table['Confirmed'] = revised_confirmed_df[today.strftime(\"%Y-%m-%d\")]\n",
    "today_summary_table['Deceased'] = revised_deceased_df[today.strftime(\"%Y-%m-%d\")]\n",
    "today_summary_table['Recovered'] = revised_recovered_df[today.strftime(\"%Y-%m-%d\")]\n",
    "\n",
    "today_summary_table['PConfirmed'] = revised_confirmed_df[yesterday.strftime(\"%Y-%m-%d\")]\n",
    "today_summary_table['PDeceased'] = revised_deceased_df[yesterday.strftime(\"%Y-%m-%d\")]\n",
    "today_summary_table['PRecovered'] = revised_recovered_df[yesterday.strftime(\"%Y-%m-%d\")]\n",
    "\n",
    "today_summary_table['Fatality Rate'] = (100* today_summary_table['Deceased']/ today_summary_table['Confirmed']).round(2)\n",
    "\n",
    "today_summary_table = today_summary_table.drop(['State Unassigned'], axis = 0)\n",
    "today_summary_table = today_summary_table.sort_values(by = ['Confirmed', 'Deceased'], ascending = [False, False]).reset_index()\n",
    "#today_summary_table.style.background_gradient(cmap='Blues')"
   ]
  },
  {
   "cell_type": "code",
   "execution_count": null,
   "metadata": {
    "execution": {
     "iopub.execute_input": "2020-10-14T15:05:39.406112Z",
     "iopub.status.busy": "2020-10-14T15:05:39.405534Z",
     "iopub.status.idle": "2020-10-14T15:05:39.409771Z",
     "shell.execute_reply": "2020-10-14T15:05:39.409308Z"
    },
    "papermill": {
     "duration": null,
     "end_time": null,
     "exception": null,
     "start_time": null,
     "status": "pending"
    },
    "tags": []
   },
   "outputs": [],
   "source": [
    "#hide\n",
    "revised_confirmed_df = revised_confirmed_df.drop(\"India\", axis=0)"
   ]
  },
  {
   "cell_type": "code",
   "execution_count": null,
   "metadata": {
    "execution": {
     "iopub.execute_input": "2020-10-14T15:05:39.450222Z",
     "iopub.status.busy": "2020-10-14T15:05:39.439823Z",
     "iopub.status.idle": "2020-10-14T15:05:50.101149Z",
     "shell.execute_reply": "2020-10-14T15:05:50.101630Z"
    },
    "papermill": {
     "duration": null,
     "end_time": null,
     "exception": null,
     "start_time": null,
     "status": "pending"
    },
    "tags": []
   },
   "outputs": [],
   "source": [
    "#hide_input\n",
    "plt.rcParams.update({'font.size': 20})\n",
    "\n",
    "#plotting graphs for the dashboard\n",
    "df = revised_confirmed_df.copy()\n",
    "df.loc['Total'] = df.sum()\n",
    "n = 10\n",
    "ax = []\n",
    "fig = plt.figure(figsize = (36,40))\n",
    "gs = fig.add_gridspec(n+2, 3)\n",
    "# gs = fig.add_gridspec(2, 3)\n",
    "ax1 = fig.add_subplot(gs[0, :])\n",
    "ef = df.loc['Total'].rename_axis('date').reset_index()\n",
    "ef = ef.iloc[:len(ef)-1, :]\n",
    "\n",
    "ef['date'] = ef['date'].astype('datetime64[ns]')\n",
    "ax1.bar(ef.date,ef.Total,alpha=0.3,color='#424ef5')\n",
    "ax1.plot(ef.date,ef.Total , marker=\"o\", color='#424ef5')\n",
    "ax1.xaxis.set_major_locator(mdates.WeekdayLocator())\n",
    "ax1.xaxis.set_major_formatter(mdates.DateFormatter('%b %d'))\n",
    "ax1.text(0.02, 0.5,'India daily case count', transform = ax1.transAxes, fontsize=34);\n",
    "ax1.spines['right'].set_visible(False)\n",
    "ax1.spines['top'].set_visible(False)\n",
    "\n",
    "ax2 = fig.add_subplot(gs[1,0])\n",
    "ef = df.loc['Maharashtra'].rename_axis('date').reset_index()\n",
    "ef = ef.iloc[:len(ef)-1, :]\n",
    "ef['date'] = ef['date'].astype('datetime64[ns]')\n",
    "\n",
    "ax2.bar(ef.date, ef.Maharashtra,color = '#007acc',alpha=0.5)\n",
    "ax2.xaxis.set_major_locator(mdates.WeekdayLocator())\n",
    "ax2.xaxis.set_major_formatter(mdates.DateFormatter('%b %d'))\n",
    "ax2.set_xticks(ax2.get_xticks()[::3])\n",
    "maxyval = ef.Maharashtra.max()\n",
    "ax2.set_ylim([0,maxyval])\n",
    "ax2.text(0.05, 0.5,'Maharashtra', transform = ax2.transAxes, fontsize=30);\n",
    "ax2.spines['right'].set_visible(False)\n",
    "ax2.spines['top'].set_visible(False)\n",
    "\n",
    "ax3 = fig.add_subplot(gs[1,1])\n",
    "ef = df.loc['Tamil Nadu'].rename_axis('date').reset_index()\n",
    "ef = ef.iloc[:len(ef)-1, :]\n",
    "ef['date'] = ef['date'].astype('datetime64[ns]')\n",
    "ax3.bar(ef.date, ef['Tamil Nadu'],color = '#42f548',alpha=0.5,)\n",
    "ax3.xaxis.set_major_locator(mdates.WeekdayLocator())\n",
    "ax3.xaxis.set_major_formatter(mdates.DateFormatter('%b %d'))\n",
    "ax3.set_xticks(ax3.get_xticks()[::3])\n",
    "ax3.text(0.05, 0.5,'Tamil Nadu', transform = ax3.transAxes, fontsize=30);\n",
    "ax3.spines['right'].set_visible(False)\n",
    "ax3.spines['top'].set_visible(False)\n",
    "\n",
    "ax4 = fig.add_subplot(gs[1,2])\n",
    "ef = df.loc['Delhi'].rename_axis('date').reset_index()\n",
    "ef = ef.iloc[:len(ef)-1, :]\n",
    "ef['date'] = ef['date'].astype('datetime64[ns]')\n",
    "ax4.bar(ef.date, ef.Delhi,color = '#f5c242',alpha=0.5)\n",
    "ax4.set_xticks([])\n",
    "ax4.xaxis.set_major_locator(mdates.WeekdayLocator())\n",
    "ax4.xaxis.set_major_formatter(mdates.DateFormatter('%b %d'))\n",
    "ax4.set_xticks(ax4.get_xticks()[::3])\n",
    "ax4.spines['right'].set_visible(False)\n",
    "ax4.spines['top'].set_visible(False)\n",
    "\n",
    "ax4.text(0.05, 0.5,'Delhi', transform = ax4.transAxes, fontsize=30)\n",
    "\n",
    "for i in range(n):\n",
    "    \n",
    "    ax.append(fig.add_subplot(gs[i+2,:]))\n",
    "    ef = df.iloc[i+3].rename_axis('date').reset_index()\n",
    "    ef = ef.iloc[:len(ef)-1, :]\n",
    "    ef['date'] = ef['date'].astype('datetime64[ns]')\n",
    "    ax[i].bar(ef.date,ef.iloc[:,-1],alpha=0.3, color='#eb4f34')\n",
    "    ax[i].plot(ef.date,ef.iloc[:,-1],marker='o', color = '#eb4f34')\n",
    "    ax[i].text(0.02,0.5,f'{ef.columns.values[-1]}',transform = ax[i].transAxes, fontsize = 30);\n",
    "    ax[i].xaxis.set_major_locator(mdates.WeekdayLocator())\n",
    "    ax[i].xaxis.set_major_formatter(mdates.DateFormatter('%b %d'))\n",
    "    ax[i].set_ylim([0,max(ef.iloc[:,-1])])\n",
    "    ax[i].spines['right'].set_visible(False)\n",
    "    ax[i].spines['top'].set_visible(False)\n",
    "plt.tight_layout()\n"
   ]
  },
  {
   "cell_type": "code",
   "execution_count": null,
   "metadata": {
    "execution": {
     "iopub.execute_input": "2020-10-14T15:05:50.155092Z",
     "iopub.status.busy": "2020-10-14T15:05:50.154544Z",
     "iopub.status.idle": "2020-10-14T15:05:50.359314Z",
     "shell.execute_reply": "2020-10-14T15:05:50.359764Z"
    },
    "papermill": {
     "duration": null,
     "end_time": null,
     "exception": null,
     "start_time": null,
     "status": "pending"
    },
    "tags": []
   },
   "outputs": [],
   "source": [
    "#hide_input\n",
    "today_summary_table.style.background_gradient(cmap='Blues')"
   ]
  },
  {
   "cell_type": "code",
   "execution_count": null,
   "metadata": {
    "execution": {
     "iopub.execute_input": "2020-10-14T15:05:50.415578Z",
     "iopub.status.busy": "2020-10-14T15:05:50.414549Z",
     "iopub.status.idle": "2020-10-14T15:05:50.416703Z",
     "shell.execute_reply": "2020-10-14T15:05:50.417490Z"
    },
    "papermill": {
     "duration": null,
     "end_time": null,
     "exception": null,
     "start_time": null,
     "status": "pending"
    },
    "tags": []
   },
   "outputs": [],
   "source": [
    "#hide \n",
    "#creating heatmap with Altair\n",
    "\n",
    "#import altair as alt\n",
    "\n",
    "#url = \"https://raw.githubusercontent.com/deldersveld/topojson/master/countries/india/india-states.json\"\n",
    "\n",
    "#india_source = alt.topo_feature(url, \"IND_adm1\")\n",
    "#source = df_table\n",
    "\n",
    "#alt.Chart(india_source).mark_geoshape().encode(\n",
    "#    tooltip='properties.NAME_1:N'\n",
    "#).properties(\n",
    "#    width=600,\n",
    "#    height=1000)"
   ]
  }
 ],
 "metadata": {
  "kernelspec": {
   "display_name": "Python 3",
   "language": "python",
   "name": "python3"
  },
  "language_info": {
   "codemirror_mode": {
    "name": "ipython",
    "version": 3
   },
   "file_extension": ".py",
   "mimetype": "text/x-python",
   "name": "python",
   "nbconvert_exporter": "python",
   "pygments_lexer": "ipython3",
   "version": "3.6.12"
  },
  "papermill": {
   "duration": 10.53223,
   "end_time": "2020-10-14T15:35:55.693715",
   "environment_variables": {},
   "exception": true,
   "input_path": "2020-08-08-COVID19-Dashboard.ipynb",
   "output_path": "2020-08-08-COVID19-Dashboard.ipynb",
   "parameters": {},
   "start_time": "2020-10-14T15:35:45.161485",
   "version": "2.1.2"
  }
 },
 "nbformat": 4,
 "nbformat_minor": 4
}