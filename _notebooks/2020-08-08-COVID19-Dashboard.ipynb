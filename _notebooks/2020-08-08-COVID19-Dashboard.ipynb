{
 "cells": [
  {
   "cell_type": "markdown",
   "metadata": {
    "tags": [
     "papermill-error-cell-tag"
    ]
   },
   "source": [
    "<span style=\"color:red; font-family:Helvetica Neue, Helvetica, Arial, sans-serif; font-size:2em;\">An Exception was encountered at '<a href=\"#papermill-error-cell\">In [4]</a>'.</span>"
   ]
  },
  {
   "cell_type": "markdown",
   "metadata": {
    "papermill": {
     "duration": 0.015897,
     "end_time": "2020-10-23T15:04:35.657056",
     "exception": false,
     "start_time": "2020-10-23T15:04:35.641159",
     "status": "completed"
    },
    "tags": []
   },
   "source": [
    "# A Python Dashboard in the time of Corona\n",
    "\n",
    "> Welcome to COVID-19 India Matplotlib Overview where I track coronavirus total cases, deaths, new cases and recovered in India. The dashboard is automatically updated every 2 hours in order to be up to date with the information.  \n",
    "\n",
    "- author: Sakthisree"
   ]
  },
  {
   "cell_type": "code",
   "execution_count": 1,
   "metadata": {
    "execution": {
     "iopub.execute_input": "2020-10-23T15:04:35.689840Z",
     "iopub.status.busy": "2020-10-23T15:04:35.689181Z",
     "iopub.status.idle": "2020-10-23T15:04:38.475411Z",
     "shell.execute_reply": "2020-10-23T15:04:38.474484Z"
    },
    "papermill": {
     "duration": 2.805834,
     "end_time": "2020-10-23T15:04:38.475554",
     "exception": false,
     "start_time": "2020-10-23T15:04:35.669720",
     "status": "completed"
    },
    "tags": []
   },
   "outputs": [],
   "source": [
    "#hide\n",
    "\n",
    "## Import essential packages below\n",
    "\n",
    "import pandas as pd\n",
    "import numpy as np\n",
    "import requests\n",
    "import json\n",
    "import matplotlib.pyplot as plt\n",
    "import matplotlib.dates as mdates\n",
    "import matplotlib as mpl\n",
    "from IPython.core.display import display,HTML\n",
    "import warnings\n",
    "from datetime import date\n",
    "from datetime import timedelta\n",
    "warnings.filterwarnings('ignore')\n",
    "%matplotlib inline"
   ]
  },
  {
   "cell_type": "code",
   "execution_count": 2,
   "metadata": {
    "execution": {
     "iopub.execute_input": "2020-10-23T15:04:38.505916Z",
     "iopub.status.busy": "2020-10-23T15:04:38.505246Z",
     "iopub.status.idle": "2020-10-23T15:04:38.723352Z",
     "shell.execute_reply": "2020-10-23T15:04:38.722768Z"
    },
    "papermill": {
     "duration": 0.235214,
     "end_time": "2020-10-23T15:04:38.723508",
     "exception": false,
     "start_time": "2020-10-23T15:04:38.488294",
     "status": "completed"
    },
    "tags": []
   },
   "outputs": [],
   "source": [
    "#hide\n",
    "df = pd.read_csv(\"https://api.covid19india.org/csv/latest/states.csv\")"
   ]
  },
  {
   "cell_type": "code",
   "execution_count": 3,
   "metadata": {
    "execution": {
     "iopub.execute_input": "2020-10-23T15:04:38.759478Z",
     "iopub.status.busy": "2020-10-23T15:04:38.758747Z",
     "iopub.status.idle": "2020-10-23T15:04:38.761144Z",
     "shell.execute_reply": "2020-10-23T15:04:38.760694Z"
    },
    "papermill": {
     "duration": 0.02466,
     "end_time": "2020-10-23T15:04:38.761281",
     "exception": false,
     "start_time": "2020-10-23T15:04:38.736621",
     "status": "completed"
    },
    "tags": []
   },
   "outputs": [],
   "source": [
    "#hide\n",
    "\n",
    "#splitting df into confirmed data, deceased data and recovered data in all states date wise\n",
    "\n",
    "confirmed = df.iloc[:,:3]\n",
    "death = df.iloc[:,[0,1,4]]\n",
    "recovered = df.iloc[:,[0,1,3]]"
   ]
  },
  {
   "cell_type": "markdown",
   "metadata": {
    "tags": [
     "papermill-error-cell-tag"
    ]
   },
   "source": [
    "<span id=\"papermill-error-cell\" style=\"color:red; font-family:Helvetica Neue, Helvetica, Arial, sans-serif; font-size:2em;\">Execution using papermill encountered an exception here and stopped:</span>"
   ]
  },
  {
   "cell_type": "code",
   "execution_count": 4,
   "metadata": {
    "execution": {
     "iopub.execute_input": "2020-10-23T15:04:38.794808Z",
     "iopub.status.busy": "2020-10-23T15:04:38.792137Z",
     "iopub.status.idle": "2020-10-23T15:04:38.928732Z",
     "shell.execute_reply": "2020-10-23T15:04:38.927994Z"
    },
    "papermill": {
     "duration": 0.155691,
     "end_time": "2020-10-23T15:04:38.928957",
     "exception": true,
     "start_time": "2020-10-23T15:04:38.773266",
     "status": "failed"
    },
    "tags": []
   },
   "outputs": [
    {
     "ename": "OutOfBoundsDatetime",
     "evalue": "Out of bounds nanosecond timestamp: 202-10-23 00:00:00",
     "output_type": "error",
     "traceback": [
      "\u001b[0;31m---------------------------------------------------------------------------\u001b[0m",
      "\u001b[0;31mTypeError\u001b[0m                                 Traceback (most recent call last)",
      "\u001b[0;32m/opt/hostedtoolcache/Python/3.6.12/x64/lib/python3.6/site-packages/pandas/core/arrays/datetimes.py\u001b[0m in \u001b[0;36mobjects_to_datetime64ns\u001b[0;34m(data, dayfirst, yearfirst, utc, errors, require_iso8601, allow_object)\u001b[0m\n\u001b[1;32m   2053\u001b[0m         \u001b[0;32mtry\u001b[0m\u001b[0;34m:\u001b[0m\u001b[0;34m\u001b[0m\u001b[0;34m\u001b[0m\u001b[0m\n\u001b[0;32m-> 2054\u001b[0;31m             \u001b[0mvalues\u001b[0m\u001b[0;34m,\u001b[0m \u001b[0mtz_parsed\u001b[0m \u001b[0;34m=\u001b[0m \u001b[0mconversion\u001b[0m\u001b[0;34m.\u001b[0m\u001b[0mdatetime_to_datetime64\u001b[0m\u001b[0;34m(\u001b[0m\u001b[0mdata\u001b[0m\u001b[0;34m)\u001b[0m\u001b[0;34m\u001b[0m\u001b[0;34m\u001b[0m\u001b[0m\n\u001b[0m\u001b[1;32m   2055\u001b[0m             \u001b[0;31m# If tzaware, these values represent unix timestamps, so we\u001b[0m\u001b[0;34m\u001b[0m\u001b[0;34m\u001b[0m\u001b[0;34m\u001b[0m\u001b[0m\n",
      "\u001b[0;32mpandas/_libs/tslibs/conversion.pyx\u001b[0m in \u001b[0;36mpandas._libs.tslibs.conversion.datetime_to_datetime64\u001b[0;34m()\u001b[0m\n",
      "\u001b[0;31mTypeError\u001b[0m: Unrecognized value type: <class 'str'>",
      "\nDuring handling of the above exception, another exception occurred:\n",
      "\u001b[0;31mOutOfBoundsDatetime\u001b[0m                       Traceback (most recent call last)",
      "\u001b[0;32m<ipython-input-4-2b26b7366b0a>\u001b[0m in \u001b[0;36m<module>\u001b[0;34m\u001b[0m\n\u001b[1;32m      2\u001b[0m \u001b[0;31m#changing 'Date' to date type and sorting dataframes from old to new\u001b[0m\u001b[0;34m\u001b[0m\u001b[0;34m\u001b[0m\u001b[0;34m\u001b[0m\u001b[0m\n\u001b[1;32m      3\u001b[0m \u001b[0;34m\u001b[0m\u001b[0m\n\u001b[0;32m----> 4\u001b[0;31m \u001b[0mconfirmed\u001b[0m\u001b[0;34m[\u001b[0m\u001b[0;34m'Date'\u001b[0m\u001b[0;34m]\u001b[0m \u001b[0;34m=\u001b[0m \u001b[0mpd\u001b[0m\u001b[0;34m.\u001b[0m\u001b[0mto_datetime\u001b[0m\u001b[0;34m(\u001b[0m\u001b[0mconfirmed\u001b[0m\u001b[0;34m.\u001b[0m\u001b[0mDate\u001b[0m\u001b[0;34m)\u001b[0m\u001b[0;34m\u001b[0m\u001b[0;34m\u001b[0m\u001b[0m\n\u001b[0m\u001b[1;32m      5\u001b[0m \u001b[0mconfirmed\u001b[0m\u001b[0;34m.\u001b[0m\u001b[0msort_values\u001b[0m\u001b[0;34m(\u001b[0m\u001b[0mby\u001b[0m\u001b[0;34m=\u001b[0m\u001b[0;34m[\u001b[0m\u001b[0;34m'Date'\u001b[0m\u001b[0;34m]\u001b[0m\u001b[0;34m)\u001b[0m\u001b[0;34m;\u001b[0m\u001b[0;34m\u001b[0m\u001b[0;34m\u001b[0m\u001b[0m\n\u001b[1;32m      6\u001b[0m \u001b[0;34m\u001b[0m\u001b[0m\n",
      "\u001b[0;32m/opt/hostedtoolcache/Python/3.6.12/x64/lib/python3.6/site-packages/pandas/core/tools/datetimes.py\u001b[0m in \u001b[0;36mto_datetime\u001b[0;34m(arg, errors, dayfirst, yearfirst, utc, format, exact, unit, infer_datetime_format, origin, cache)\u001b[0m\n\u001b[1;32m    797\u001b[0m                 \u001b[0mresult\u001b[0m \u001b[0;34m=\u001b[0m \u001b[0mresult\u001b[0m\u001b[0;34m.\u001b[0m\u001b[0mtz_localize\u001b[0m\u001b[0;34m(\u001b[0m\u001b[0mtz\u001b[0m\u001b[0;34m)\u001b[0m\u001b[0;34m\u001b[0m\u001b[0;34m\u001b[0m\u001b[0m\n\u001b[1;32m    798\u001b[0m     \u001b[0;32melif\u001b[0m \u001b[0misinstance\u001b[0m\u001b[0;34m(\u001b[0m\u001b[0marg\u001b[0m\u001b[0;34m,\u001b[0m \u001b[0mABCSeries\u001b[0m\u001b[0;34m)\u001b[0m\u001b[0;34m:\u001b[0m\u001b[0;34m\u001b[0m\u001b[0;34m\u001b[0m\u001b[0m\n\u001b[0;32m--> 799\u001b[0;31m         \u001b[0mcache_array\u001b[0m \u001b[0;34m=\u001b[0m \u001b[0m_maybe_cache\u001b[0m\u001b[0;34m(\u001b[0m\u001b[0marg\u001b[0m\u001b[0;34m,\u001b[0m \u001b[0mformat\u001b[0m\u001b[0;34m,\u001b[0m \u001b[0mcache\u001b[0m\u001b[0;34m,\u001b[0m \u001b[0mconvert_listlike\u001b[0m\u001b[0;34m)\u001b[0m\u001b[0;34m\u001b[0m\u001b[0;34m\u001b[0m\u001b[0m\n\u001b[0m\u001b[1;32m    800\u001b[0m         \u001b[0;32mif\u001b[0m \u001b[0;32mnot\u001b[0m \u001b[0mcache_array\u001b[0m\u001b[0;34m.\u001b[0m\u001b[0mempty\u001b[0m\u001b[0;34m:\u001b[0m\u001b[0;34m\u001b[0m\u001b[0;34m\u001b[0m\u001b[0m\n\u001b[1;32m    801\u001b[0m             \u001b[0mresult\u001b[0m \u001b[0;34m=\u001b[0m \u001b[0marg\u001b[0m\u001b[0;34m.\u001b[0m\u001b[0mmap\u001b[0m\u001b[0;34m(\u001b[0m\u001b[0mcache_array\u001b[0m\u001b[0;34m)\u001b[0m\u001b[0;34m\u001b[0m\u001b[0;34m\u001b[0m\u001b[0m\n",
      "\u001b[0;32m/opt/hostedtoolcache/Python/3.6.12/x64/lib/python3.6/site-packages/pandas/core/tools/datetimes.py\u001b[0m in \u001b[0;36m_maybe_cache\u001b[0;34m(arg, format, cache, convert_listlike)\u001b[0m\n\u001b[1;32m    168\u001b[0m         \u001b[0munique_dates\u001b[0m \u001b[0;34m=\u001b[0m \u001b[0munique\u001b[0m\u001b[0;34m(\u001b[0m\u001b[0marg\u001b[0m\u001b[0;34m)\u001b[0m\u001b[0;34m\u001b[0m\u001b[0;34m\u001b[0m\u001b[0m\n\u001b[1;32m    169\u001b[0m         \u001b[0;32mif\u001b[0m \u001b[0mlen\u001b[0m\u001b[0;34m(\u001b[0m\u001b[0munique_dates\u001b[0m\u001b[0;34m)\u001b[0m \u001b[0;34m<\u001b[0m \u001b[0mlen\u001b[0m\u001b[0;34m(\u001b[0m\u001b[0marg\u001b[0m\u001b[0;34m)\u001b[0m\u001b[0;34m:\u001b[0m\u001b[0;34m\u001b[0m\u001b[0;34m\u001b[0m\u001b[0m\n\u001b[0;32m--> 170\u001b[0;31m             \u001b[0mcache_dates\u001b[0m \u001b[0;34m=\u001b[0m \u001b[0mconvert_listlike\u001b[0m\u001b[0;34m(\u001b[0m\u001b[0munique_dates\u001b[0m\u001b[0;34m,\u001b[0m \u001b[0mformat\u001b[0m\u001b[0;34m)\u001b[0m\u001b[0;34m\u001b[0m\u001b[0;34m\u001b[0m\u001b[0m\n\u001b[0m\u001b[1;32m    171\u001b[0m             \u001b[0mcache_array\u001b[0m \u001b[0;34m=\u001b[0m \u001b[0mSeries\u001b[0m\u001b[0;34m(\u001b[0m\u001b[0mcache_dates\u001b[0m\u001b[0;34m,\u001b[0m \u001b[0mindex\u001b[0m\u001b[0;34m=\u001b[0m\u001b[0munique_dates\u001b[0m\u001b[0;34m)\u001b[0m\u001b[0;34m\u001b[0m\u001b[0;34m\u001b[0m\u001b[0m\n\u001b[1;32m    172\u001b[0m     \u001b[0;32mreturn\u001b[0m \u001b[0mcache_array\u001b[0m\u001b[0;34m\u001b[0m\u001b[0;34m\u001b[0m\u001b[0m\n",
      "\u001b[0;32m/opt/hostedtoolcache/Python/3.6.12/x64/lib/python3.6/site-packages/pandas/core/tools/datetimes.py\u001b[0m in \u001b[0;36m_convert_listlike_datetimes\u001b[0;34m(arg, format, name, tz, unit, errors, infer_datetime_format, dayfirst, yearfirst, exact)\u001b[0m\n\u001b[1;32m    464\u001b[0m             \u001b[0merrors\u001b[0m\u001b[0;34m=\u001b[0m\u001b[0merrors\u001b[0m\u001b[0;34m,\u001b[0m\u001b[0;34m\u001b[0m\u001b[0;34m\u001b[0m\u001b[0m\n\u001b[1;32m    465\u001b[0m             \u001b[0mrequire_iso8601\u001b[0m\u001b[0;34m=\u001b[0m\u001b[0mrequire_iso8601\u001b[0m\u001b[0;34m,\u001b[0m\u001b[0;34m\u001b[0m\u001b[0;34m\u001b[0m\u001b[0m\n\u001b[0;32m--> 466\u001b[0;31m             \u001b[0mallow_object\u001b[0m\u001b[0;34m=\u001b[0m\u001b[0;32mTrue\u001b[0m\u001b[0;34m,\u001b[0m\u001b[0;34m\u001b[0m\u001b[0;34m\u001b[0m\u001b[0m\n\u001b[0m\u001b[1;32m    467\u001b[0m         )\n\u001b[1;32m    468\u001b[0m \u001b[0;34m\u001b[0m\u001b[0m\n",
      "\u001b[0;32m/opt/hostedtoolcache/Python/3.6.12/x64/lib/python3.6/site-packages/pandas/core/arrays/datetimes.py\u001b[0m in \u001b[0;36mobjects_to_datetime64ns\u001b[0;34m(data, dayfirst, yearfirst, utc, errors, require_iso8601, allow_object)\u001b[0m\n\u001b[1;32m   2057\u001b[0m             \u001b[0;32mreturn\u001b[0m \u001b[0mvalues\u001b[0m\u001b[0;34m.\u001b[0m\u001b[0mview\u001b[0m\u001b[0;34m(\u001b[0m\u001b[0;34m\"i8\"\u001b[0m\u001b[0;34m)\u001b[0m\u001b[0;34m,\u001b[0m \u001b[0mtz_parsed\u001b[0m\u001b[0;34m\u001b[0m\u001b[0;34m\u001b[0m\u001b[0m\n\u001b[1;32m   2058\u001b[0m         \u001b[0;32mexcept\u001b[0m \u001b[0;34m(\u001b[0m\u001b[0mValueError\u001b[0m\u001b[0;34m,\u001b[0m \u001b[0mTypeError\u001b[0m\u001b[0;34m)\u001b[0m\u001b[0;34m:\u001b[0m\u001b[0;34m\u001b[0m\u001b[0;34m\u001b[0m\u001b[0m\n\u001b[0;32m-> 2059\u001b[0;31m             \u001b[0;32mraise\u001b[0m \u001b[0me\u001b[0m\u001b[0;34m\u001b[0m\u001b[0;34m\u001b[0m\u001b[0m\n\u001b[0m\u001b[1;32m   2060\u001b[0m \u001b[0;34m\u001b[0m\u001b[0m\n\u001b[1;32m   2061\u001b[0m     \u001b[0;32mif\u001b[0m \u001b[0mtz_parsed\u001b[0m \u001b[0;32mis\u001b[0m \u001b[0;32mnot\u001b[0m \u001b[0;32mNone\u001b[0m\u001b[0;34m:\u001b[0m\u001b[0;34m\u001b[0m\u001b[0;34m\u001b[0m\u001b[0m\n",
      "\u001b[0;32m/opt/hostedtoolcache/Python/3.6.12/x64/lib/python3.6/site-packages/pandas/core/arrays/datetimes.py\u001b[0m in \u001b[0;36mobjects_to_datetime64ns\u001b[0;34m(data, dayfirst, yearfirst, utc, errors, require_iso8601, allow_object)\u001b[0m\n\u001b[1;32m   2048\u001b[0m             \u001b[0mdayfirst\u001b[0m\u001b[0;34m=\u001b[0m\u001b[0mdayfirst\u001b[0m\u001b[0;34m,\u001b[0m\u001b[0;34m\u001b[0m\u001b[0;34m\u001b[0m\u001b[0m\n\u001b[1;32m   2049\u001b[0m             \u001b[0myearfirst\u001b[0m\u001b[0;34m=\u001b[0m\u001b[0myearfirst\u001b[0m\u001b[0;34m,\u001b[0m\u001b[0;34m\u001b[0m\u001b[0;34m\u001b[0m\u001b[0m\n\u001b[0;32m-> 2050\u001b[0;31m             \u001b[0mrequire_iso8601\u001b[0m\u001b[0;34m=\u001b[0m\u001b[0mrequire_iso8601\u001b[0m\u001b[0;34m,\u001b[0m\u001b[0;34m\u001b[0m\u001b[0;34m\u001b[0m\u001b[0m\n\u001b[0m\u001b[1;32m   2051\u001b[0m         )\n\u001b[1;32m   2052\u001b[0m     \u001b[0;32mexcept\u001b[0m \u001b[0mValueError\u001b[0m \u001b[0;32mas\u001b[0m \u001b[0me\u001b[0m\u001b[0;34m:\u001b[0m\u001b[0;34m\u001b[0m\u001b[0;34m\u001b[0m\u001b[0m\n",
      "\u001b[0;32mpandas/_libs/tslib.pyx\u001b[0m in \u001b[0;36mpandas._libs.tslib.array_to_datetime\u001b[0;34m()\u001b[0m\n",
      "\u001b[0;32mpandas/_libs/tslib.pyx\u001b[0m in \u001b[0;36mpandas._libs.tslib.array_to_datetime\u001b[0;34m()\u001b[0m\n",
      "\u001b[0;32mpandas/_libs/tslib.pyx\u001b[0m in \u001b[0;36mpandas._libs.tslib.array_to_datetime\u001b[0;34m()\u001b[0m\n",
      "\u001b[0;32mpandas/_libs/tslib.pyx\u001b[0m in \u001b[0;36mpandas._libs.tslib.array_to_datetime\u001b[0;34m()\u001b[0m\n",
      "\u001b[0;32mpandas/_libs/tslibs/conversion.pyx\u001b[0m in \u001b[0;36mpandas._libs.tslibs.conversion.convert_datetime_to_tsobject\u001b[0;34m()\u001b[0m\n",
      "\u001b[0;32mpandas/_libs/tslibs/np_datetime.pyx\u001b[0m in \u001b[0;36mpandas._libs.tslibs.np_datetime.check_dts_bounds\u001b[0;34m()\u001b[0m\n",
      "\u001b[0;31mOutOfBoundsDatetime\u001b[0m: Out of bounds nanosecond timestamp: 202-10-23 00:00:00"
     ]
    }
   ],
   "source": [
    "#hide\n",
    "#changing 'Date' to date type and sorting dataframes from old to new\n",
    "\n",
    "confirmed['Date'] = pd.to_datetime(confirmed.Date)\n",
    "confirmed.sort_values(by=['Date']);\n",
    "\n",
    "death['Date'] = pd.to_datetime(death.Date)\n",
    "death.sort_values(by=['Date']);\n",
    "\n",
    "recovered['Date'] = pd.to_datetime(recovered.Date)\n",
    "recovered.sort_values(by=['Date']);"
   ]
  },
  {
   "cell_type": "code",
   "execution_count": null,
   "metadata": {
    "execution": {
     "iopub.execute_input": "2020-10-23T13:43:44.140025Z",
     "iopub.status.busy": "2020-10-23T13:43:44.139424Z",
     "iopub.status.idle": "2020-10-23T13:43:44.144971Z",
     "shell.execute_reply": "2020-10-23T13:43:44.144469Z"
    },
    "papermill": {
     "duration": null,
     "end_time": null,
     "exception": null,
     "start_time": null,
     "status": "pending"
    },
    "scrolled": true,
    "tags": []
   },
   "outputs": [],
   "source": [
    "#hide\n",
    "today = date.today()\n",
    "if today.strftime(\"%Y-%m-%d\") not in confirmed['Date']:\n",
    "    today = today - timedelta(days = 1)\n",
    "else:\n",
    "    today = today\n",
    "\n",
    "#fetching confirmed cases number from today\n",
    "today_confirmed_data = confirmed[confirmed['Date'] == today.strftime(\"%Y-%m-%d\")]\n",
    "confirmed_cases = today_confirmed_data[today_confirmed_data['State'] == \"India\"]['Confirmed']\n",
    "confirmed_cases = int(confirmed_cases.item())\n",
    "\n",
    "#fetching deceased cases number from today\n",
    "today_deceased_data = death[death['Date'] == today.strftime(\"%Y-%m-%d\")]\n",
    "deceased_cases = today_deceased_data[today_deceased_data['State'] == \"India\"]['Deceased']\n",
    "deceased_cases = int(deceased_cases.item())\n",
    "\n",
    "#fetching recovered cases from today\n",
    "today_recovered_data = recovered[recovered['Date'] == today.strftime(\"%Y-%m-%d\")]\n",
    "recovered_cases = today_recovered_data[today_recovered_data['State'] == \"India\"]['Recovered']\n",
    "recovered_cases = int(recovered_cases.item())\n",
    "\n"
   ]
  },
  {
   "cell_type": "code",
   "execution_count": null,
   "metadata": {
    "execution": {
     "iopub.execute_input": "2020-10-23T13:43:44.178927Z",
     "iopub.status.busy": "2020-10-23T13:43:44.178246Z",
     "iopub.status.idle": "2020-10-23T13:43:44.186243Z",
     "shell.execute_reply": "2020-10-23T13:43:44.185639Z"
    },
    "papermill": {
     "duration": null,
     "end_time": null,
     "exception": null,
     "start_time": null,
     "status": "pending"
    },
    "tags": []
   },
   "outputs": [],
   "source": [
    "#hide\n",
    "yesterday = today - timedelta(days = 1) \n",
    "\n",
    "#fetching confirmed cases number from yesterday\n",
    "yesterday_confirmed_data = confirmed[confirmed['Date'] == yesterday.strftime(\"%Y-%m-%d\")]\n",
    "yesterday_confirmed_cases = yesterday_confirmed_data[yesterday_confirmed_data['State'] == \"India\"]['Confirmed']\n",
    "\n",
    "#fetching deceased cases number from yesterday\n",
    "yesterday_deceased_data = death[death['Date'] == yesterday.strftime(\"%Y-%m-%d\")]\n",
    "yesterday_deceased_cases = yesterday_deceased_data[yesterday_deceased_data['State'] == \"India\"]['Deceased']\n",
    "\n",
    "#fetching recovered cases from yesterday\n",
    "yesterday_recovered_data = recovered[recovered['Date'] == yesterday.strftime(\"%Y-%m-%d\")]\n",
    "yesterday_recovered_cases = yesterday_recovered_data[yesterday_recovered_data['State'] == \"India\"]['Recovered']\n",
    "\n",
    "#getting increase in numbers from yesterday to today\n",
    "new = confirmed_cases - yesterday_confirmed_cases\n",
    "dnew = deceased_cases - yesterday_deceased_cases\n",
    "drecov = recovered_cases - yesterday_recovered_cases\n"
   ]
  },
  {
   "cell_type": "code",
   "execution_count": null,
   "metadata": {
    "execution": {
     "iopub.execute_input": "2020-10-23T13:43:44.220070Z",
     "iopub.status.busy": "2020-10-23T13:43:44.219354Z",
     "iopub.status.idle": "2020-10-23T13:43:44.224523Z",
     "shell.execute_reply": "2020-10-23T13:43:44.223269Z"
    },
    "papermill": {
     "duration": null,
     "end_time": null,
     "exception": null,
     "start_time": null,
     "status": "pending"
    },
    "tags": []
   },
   "outputs": [],
   "source": [
    "#hide\n",
    "\n",
    "#creating the html overview of the data\n",
    "overview = '''\n",
    "<!-- #######  HTML!! #########-->\n",
    "<h1 style=\"color: #5e9ca0; text-align: center;background-color:black;font-size:30px;\">India</h1>\n",
    "\n",
    "<p style=\"text-align: center;background-color:#e8e8e8;\">Last update: <strong>{update}</strong></p>\n",
    "\n",
    "<p style=\"text-align: center;font-size:18px\">Confirmed cases:</p>\n",
    "<p style=\"text-align: center;font-size:24px;\"><strong>{cases}</strong> (<span style=\"color: #ff0000;\">+{new}</span>)</p>\n",
    "\n",
    "<p style=\"text-align: center;font-size:18px\">Confirmed deaths:</p>\n",
    "<p style=\"text-align: center;font-size:24px;\"><strong>{deaths}</strong> (<span style=\"color: #ff0000;\">+{dnew}</span>)</p>\n",
    "\n",
    "<p style=\"text-align: center;font-size:18px\">Recovered:</p>\n",
    "<p style=\"text-align: center;font-size:24px;\"><strong>{recovered}</strong> (<span style=\"color: #ff0000;\">+{drecov}</span>)</p>\n",
    "\n",
    "'''"
   ]
  },
  {
   "cell_type": "code",
   "execution_count": null,
   "metadata": {
    "execution": {
     "iopub.execute_input": "2020-10-23T13:43:44.257792Z",
     "iopub.status.busy": "2020-10-23T13:43:44.257056Z",
     "iopub.status.idle": "2020-10-23T13:43:44.260059Z",
     "shell.execute_reply": "2020-10-23T13:43:44.259376Z"
    },
    "papermill": {
     "duration": null,
     "end_time": null,
     "exception": null,
     "start_time": null,
     "status": "pending"
    },
    "tags": []
   },
   "outputs": [],
   "source": [
    "#hide\n",
    "html = HTML(overview.format(update=today, cases=confirmed_cases,new=new.item(),deaths=deceased_cases,dnew=dnew.item(),recovered = recovered_cases,drecov = drecov.item()))"
   ]
  },
  {
   "cell_type": "code",
   "execution_count": null,
   "metadata": {
    "execution": {
     "iopub.execute_input": "2020-10-23T13:43:44.297064Z",
     "iopub.status.busy": "2020-10-23T13:43:44.296426Z",
     "iopub.status.idle": "2020-10-23T13:43:44.298716Z",
     "shell.execute_reply": "2020-10-23T13:43:44.299263Z"
    },
    "papermill": {
     "duration": null,
     "end_time": null,
     "exception": null,
     "start_time": null,
     "status": "pending"
    },
    "tags": []
   },
   "outputs": [],
   "source": [
    "#hide_input\n",
    "display(html)"
   ]
  },
  {
   "cell_type": "code",
   "execution_count": null,
   "metadata": {
    "execution": {
     "iopub.execute_input": "2020-10-23T13:43:44.339443Z",
     "iopub.status.busy": "2020-10-23T13:43:44.330703Z",
     "iopub.status.idle": "2020-10-23T13:43:44.395815Z",
     "shell.execute_reply": "2020-10-23T13:43:44.394687Z"
    },
    "papermill": {
     "duration": null,
     "end_time": null,
     "exception": null,
     "start_time": null,
     "status": "pending"
    },
    "tags": []
   },
   "outputs": [],
   "source": [
    "#hide\n",
    "import datetime \n",
    "\n",
    "#manipulating the dataframes to get the correct dataframe columns to work with\n",
    "\n",
    "dates_so_far = df.Date.unique().tolist()\n",
    "column_names = ['State']+ dates_so_far \n",
    "\n",
    "revised_confirmed_df = pd.DataFrame(columns = column_names)\n",
    "revised_confirmed_df['State'] = confirmed['State'].unique()\n",
    "revised_confirmed_df = revised_confirmed_df.set_index('State')\n",
    "\n",
    "revised_deceased_df = pd.DataFrame(columns = column_names)\n",
    "revised_deceased_df['State'] = death['State'].unique()\n",
    "revised_deceased_df = revised_deceased_df.set_index('State')\n",
    "\n",
    "revised_recovered_df = pd.DataFrame(columns = column_names)\n",
    "revised_recovered_df['State'] = recovered['State'].unique()\n",
    "revised_recovered_df = revised_recovered_df.set_index('State')\n"
   ]
  },
  {
   "cell_type": "code",
   "execution_count": null,
   "metadata": {
    "execution": {
     "iopub.execute_input": "2020-10-23T13:43:44.436537Z",
     "iopub.status.busy": "2020-10-23T13:43:44.429699Z",
     "iopub.status.idle": "2020-10-23T13:44:02.586981Z",
     "shell.execute_reply": "2020-10-23T13:44:02.587538Z"
    },
    "papermill": {
     "duration": null,
     "end_time": null,
     "exception": null,
     "start_time": null,
     "status": "pending"
    },
    "tags": []
   },
   "outputs": [],
   "source": [
    "#hide\n",
    "for i in dates_so_far: \n",
    "    states_having_confirmed_cases = confirmed[confirmed['Date'] == i]\n",
    "    states_having_deceased_cases = death[death['Date'] == i]\n",
    "    states_having_recovered_cases = recovered[recovered['Date'] == i]\n",
    "    for j in states_having_confirmed_cases['State']:\n",
    "        revised_confirmed_df.loc[j][i] = states_having_confirmed_cases[states_having_confirmed_cases['State'] == j]['Confirmed'].item()\n",
    "        revised_deceased_df.loc[j][i] = states_having_deceased_cases[states_having_deceased_cases['State'] == j]['Deceased'].item()\n",
    "        revised_recovered_df.loc[j][i] = states_having_recovered_cases[states_having_recovered_cases['State'] == j]['Recovered'].item()\n",
    "\n",
    "revised_confirmed_df = revised_confirmed_df.replace(np.nan,0)\n",
    "revised_deceased_df = revised_deceased_df.replace(np.nan,0)\n",
    "revised_recovered_df = revised_recovered_df.replace(np.nan,0)\n"
   ]
  },
  {
   "cell_type": "code",
   "execution_count": null,
   "metadata": {
    "execution": {
     "iopub.execute_input": "2020-10-23T13:44:02.627751Z",
     "iopub.status.busy": "2020-10-23T13:44:02.627073Z",
     "iopub.status.idle": "2020-10-23T13:44:02.642256Z",
     "shell.execute_reply": "2020-10-23T13:44:02.642812Z"
    },
    "papermill": {
     "duration": null,
     "end_time": null,
     "exception": null,
     "start_time": null,
     "status": "pending"
    },
    "tags": []
   },
   "outputs": [],
   "source": [
    "#hide\n",
    "\n",
    "#creating a total summary overview of the cases, deaths, recovered, delta of cases, delta of deaths, delta of recovered and fatality rates\n",
    "today_summary_table = pd.DataFrame(columns = ['State','Confirmed','Deceased','Recovered','PConfirmed','PDeceased','PRecovered','Fatality Rate'])\n",
    "today_summary_table['State'] = confirmed['State'].unique()\n",
    "today_summary_table = today_summary_table.set_index('State')\n",
    "\n",
    "today_summary_table['Confirmed'] = revised_confirmed_df[today.strftime(\"%Y-%m-%d\")]\n",
    "today_summary_table['Deceased'] = revised_deceased_df[today.strftime(\"%Y-%m-%d\")]\n",
    "today_summary_table['Recovered'] = revised_recovered_df[today.strftime(\"%Y-%m-%d\")]\n",
    "\n",
    "today_summary_table['PConfirmed'] = revised_confirmed_df[yesterday.strftime(\"%Y-%m-%d\")]\n",
    "today_summary_table['PDeceased'] = revised_deceased_df[yesterday.strftime(\"%Y-%m-%d\")]\n",
    "today_summary_table['PRecovered'] = revised_recovered_df[yesterday.strftime(\"%Y-%m-%d\")]\n",
    "\n",
    "today_summary_table['Fatality Rate'] = (100* today_summary_table['Deceased']/ today_summary_table['Confirmed']).round(2)\n",
    "\n",
    "today_summary_table = today_summary_table.drop(['State Unassigned'], axis = 0)\n",
    "today_summary_table = today_summary_table.sort_values(by = ['Confirmed', 'Deceased'], ascending = [False, False]).reset_index()\n",
    "#today_summary_table.style.background_gradient(cmap='Blues')"
   ]
  },
  {
   "cell_type": "code",
   "execution_count": null,
   "metadata": {
    "execution": {
     "iopub.execute_input": "2020-10-23T13:44:02.759979Z",
     "iopub.status.busy": "2020-10-23T13:44:02.759371Z",
     "iopub.status.idle": "2020-10-23T13:44:02.762943Z",
     "shell.execute_reply": "2020-10-23T13:44:02.763493Z"
    },
    "papermill": {
     "duration": null,
     "end_time": null,
     "exception": null,
     "start_time": null,
     "status": "pending"
    },
    "tags": []
   },
   "outputs": [],
   "source": [
    "#hide\n",
    "revised_confirmed_df = revised_confirmed_df.drop(\"India\", axis=0)"
   ]
  },
  {
   "cell_type": "code",
   "execution_count": null,
   "metadata": {
    "execution": {
     "iopub.execute_input": "2020-10-23T13:44:02.855794Z",
     "iopub.status.busy": "2020-10-23T13:44:02.845582Z",
     "iopub.status.idle": "2020-10-23T13:44:15.498336Z",
     "shell.execute_reply": "2020-10-23T13:44:15.498828Z"
    },
    "papermill": {
     "duration": null,
     "end_time": null,
     "exception": null,
     "start_time": null,
     "status": "pending"
    },
    "tags": []
   },
   "outputs": [],
   "source": [
    "#hide_input\n",
    "plt.rcParams.update({'font.size': 20})\n",
    "\n",
    "#plotting graphs for the dashboard\n",
    "df = revised_confirmed_df.copy()\n",
    "df.loc['Total'] = df.sum()\n",
    "n = 10\n",
    "ax = []\n",
    "fig = plt.figure(figsize = (36,40))\n",
    "gs = fig.add_gridspec(n+2, 3)\n",
    "# gs = fig.add_gridspec(2, 3)\n",
    "ax1 = fig.add_subplot(gs[0, :])\n",
    "ef = df.loc['Total'].rename_axis('date').reset_index()\n",
    "ef = ef.iloc[:len(ef)-1, :]\n",
    "\n",
    "ef['date'] = ef['date'].astype('datetime64[ns]')\n",
    "ax1.bar(ef.date,ef.Total,alpha=0.3,color='#424ef5')\n",
    "ax1.plot(ef.date,ef.Total , marker=\"o\", color='#424ef5')\n",
    "ax1.xaxis.set_major_locator(mdates.WeekdayLocator())\n",
    "ax1.xaxis.set_major_formatter(mdates.DateFormatter('%b %d'))\n",
    "ax1.text(0.02, 0.5,'India daily case count', transform = ax1.transAxes, fontsize=34);\n",
    "ax1.spines['right'].set_visible(False)\n",
    "ax1.spines['top'].set_visible(False)\n",
    "\n",
    "ax2 = fig.add_subplot(gs[1,0])\n",
    "ef = df.loc['Maharashtra'].rename_axis('date').reset_index()\n",
    "ef = ef.iloc[:len(ef)-1, :]\n",
    "ef['date'] = ef['date'].astype('datetime64[ns]')\n",
    "\n",
    "ax2.bar(ef.date, ef.Maharashtra,color = '#007acc',alpha=0.5)\n",
    "ax2.xaxis.set_major_locator(mdates.WeekdayLocator())\n",
    "ax2.xaxis.set_major_formatter(mdates.DateFormatter('%b %d'))\n",
    "ax2.set_xticks(ax2.get_xticks()[::3])\n",
    "maxyval = ef.Maharashtra.max()\n",
    "ax2.set_ylim([0,maxyval])\n",
    "ax2.text(0.05, 0.5,'Maharashtra', transform = ax2.transAxes, fontsize=30);\n",
    "ax2.spines['right'].set_visible(False)\n",
    "ax2.spines['top'].set_visible(False)\n",
    "\n",
    "ax3 = fig.add_subplot(gs[1,1])\n",
    "ef = df.loc['Tamil Nadu'].rename_axis('date').reset_index()\n",
    "ef = ef.iloc[:len(ef)-1, :]\n",
    "ef['date'] = ef['date'].astype('datetime64[ns]')\n",
    "ax3.bar(ef.date, ef['Tamil Nadu'],color = '#42f548',alpha=0.5,)\n",
    "ax3.xaxis.set_major_locator(mdates.WeekdayLocator())\n",
    "ax3.xaxis.set_major_formatter(mdates.DateFormatter('%b %d'))\n",
    "ax3.set_xticks(ax3.get_xticks()[::3])\n",
    "ax3.text(0.05, 0.5,'Tamil Nadu', transform = ax3.transAxes, fontsize=30);\n",
    "ax3.spines['right'].set_visible(False)\n",
    "ax3.spines['top'].set_visible(False)\n",
    "\n",
    "ax4 = fig.add_subplot(gs[1,2])\n",
    "ef = df.loc['Delhi'].rename_axis('date').reset_index()\n",
    "ef = ef.iloc[:len(ef)-1, :]\n",
    "ef['date'] = ef['date'].astype('datetime64[ns]')\n",
    "ax4.bar(ef.date, ef.Delhi,color = '#f5c242',alpha=0.5)\n",
    "ax4.set_xticks([])\n",
    "ax4.xaxis.set_major_locator(mdates.WeekdayLocator())\n",
    "ax4.xaxis.set_major_formatter(mdates.DateFormatter('%b %d'))\n",
    "ax4.set_xticks(ax4.get_xticks()[::3])\n",
    "ax4.spines['right'].set_visible(False)\n",
    "ax4.spines['top'].set_visible(False)\n",
    "\n",
    "ax4.text(0.05, 0.5,'Delhi', transform = ax4.transAxes, fontsize=30)\n",
    "\n",
    "for i in range(n):\n",
    "    \n",
    "    ax.append(fig.add_subplot(gs[i+2,:]))\n",
    "    ef = df.iloc[i+3].rename_axis('date').reset_index()\n",
    "    ef = ef.iloc[:len(ef)-1, :]\n",
    "    ef['date'] = ef['date'].astype('datetime64[ns]')\n",
    "    ax[i].bar(ef.date,ef.iloc[:,-1],alpha=0.3, color='#eb4f34')\n",
    "    ax[i].plot(ef.date,ef.iloc[:,-1],marker='o', color = '#eb4f34')\n",
    "    ax[i].text(0.02,0.5,f'{ef.columns.values[-1]}',transform = ax[i].transAxes, fontsize = 30);\n",
    "    ax[i].xaxis.set_major_locator(mdates.WeekdayLocator())\n",
    "    ax[i].xaxis.set_major_formatter(mdates.DateFormatter('%b %d'))\n",
    "    ax[i].set_ylim([0,max(ef.iloc[:,-1])])\n",
    "    ax[i].spines['right'].set_visible(False)\n",
    "    ax[i].spines['top'].set_visible(False)\n",
    "plt.tight_layout()\n"
   ]
  },
  {
   "cell_type": "code",
   "execution_count": null,
   "metadata": {
    "execution": {
     "iopub.execute_input": "2020-10-23T13:44:15.556394Z",
     "iopub.status.busy": "2020-10-23T13:44:15.555818Z",
     "iopub.status.idle": "2020-10-23T13:44:15.976881Z",
     "shell.execute_reply": "2020-10-23T13:44:15.976369Z"
    },
    "papermill": {
     "duration": null,
     "end_time": null,
     "exception": null,
     "start_time": null,
     "status": "pending"
    },
    "tags": []
   },
   "outputs": [],
   "source": [
    "#hide_input\n",
    "today_summary_table.style.background_gradient(cmap='Blues')"
   ]
  },
  {
   "cell_type": "code",
   "execution_count": null,
   "metadata": {
    "execution": {
     "iopub.execute_input": "2020-10-23T13:44:16.046498Z",
     "iopub.status.busy": "2020-10-23T13:44:16.045625Z",
     "iopub.status.idle": "2020-10-23T13:44:16.050845Z",
     "shell.execute_reply": "2020-10-23T13:44:16.050375Z"
    },
    "papermill": {
     "duration": null,
     "end_time": null,
     "exception": null,
     "start_time": null,
     "status": "pending"
    },
    "tags": []
   },
   "outputs": [],
   "source": [
    "#hide \n",
    "#creating heatmap with Altair\n",
    "\n",
    "#import altair as alt\n",
    "\n",
    "#url = \"https://raw.githubusercontent.com/deldersveld/topojson/master/countries/india/india-states.json\"\n",
    "\n",
    "#india_source = alt.topo_feature(url, \"IND_adm1\")\n",
    "#source = df_table\n",
    "\n",
    "#alt.Chart(india_source).mark_geoshape().encode(\n",
    "#    tooltip='properties.NAME_1:N'\n",
    "#).properties(\n",
    "#    width=600,\n",
    "#    height=1000)"
   ]
  }
 ],
 "metadata": {
  "kernelspec": {
   "display_name": "Python 3",
   "language": "python",
   "name": "python3"
  },
  "language_info": {
   "codemirror_mode": {
    "name": "ipython",
    "version": 3
   },
   "file_extension": ".py",
   "mimetype": "text/x-python",
   "name": "python",
   "nbconvert_exporter": "python",
   "pygments_lexer": "ipython3",
   "version": "3.6.12"
  },
  "papermill": {
   "duration": 4.841169,
   "end_time": "2020-10-23T15:04:39.335691",
   "environment_variables": {},
   "exception": true,
   "input_path": "2020-08-08-COVID19-Dashboard.ipynb",
   "output_path": "2020-08-08-COVID19-Dashboard.ipynb",
   "parameters": {},
   "start_time": "2020-10-23T15:04:34.494522",
   "version": "2.1.2"
  }
 },
 "nbformat": 4,
 "nbformat_minor": 4
}